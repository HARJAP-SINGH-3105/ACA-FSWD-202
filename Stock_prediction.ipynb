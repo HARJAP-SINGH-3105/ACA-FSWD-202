{
  "cells": [
    {
      "cell_type": "markdown",
      "metadata": {
        "id": "view-in-github",
        "colab_type": "text"
      },
      "source": [
        "<a href=\"https://colab.research.google.com/github/HARJAP-SINGH-3105/ACA-FSWD-202/blob/main/Stock_prediction.ipynb\" target=\"_parent\"><img src=\"https://colab.research.google.com/assets/colab-badge.svg\" alt=\"Open In Colab\"/></a>"
      ]
    },
    {
      "cell_type": "code",
      "execution_count": null,
      "id": "3fd74602",
      "metadata": {
        "id": "3fd74602"
      },
      "outputs": [],
      "source": [
        "# stock price using Deep Learning\n",
        "# Use Convolution layers and LSTM layers ...\n",
        "# Step1:  Load the data.\n",
        "# Step2: Cleanising the data.\n",
        "# Step3: Doing preprocessing the data...\n",
        "# Step4 : Forming the Neural Network,\n",
        "#Step5 : Fitting and predicting the data.\n",
        "#Step 6: Visualising  the prediction \n",
        "\n"
      ]
    },
    {
      "cell_type": "code",
      "execution_count": null,
      "id": "7c652e54",
      "metadata": {
        "id": "7c652e54"
      },
      "outputs": [],
      "source": [
        "import numpy as np \n",
        "from matplotlib import pyplot as plt\n",
        "import pandas as pd\n",
        "import tensorflow as tf\n",
        "import sklearn"
      ]
    },
    {
      "cell_type": "code",
      "execution_count": null,
      "id": "57b7386f",
      "metadata": {
        "id": "57b7386f"
      },
      "outputs": [],
      "source": [
        "df  = pd.read_csv(\"Downloads/ICICI_BANK.csv\")"
      ]
    },
    {
      "cell_type": "code",
      "execution_count": null,
      "id": "7c4f8463",
      "metadata": {
        "scrolled": false,
        "id": "7c4f8463",
        "outputId": "88979232-26df-4e4a-f62e-ba3a35f36606"
      },
      "outputs": [
        {
          "data": {
            "text/html": [
              "<div>\n",
              "<style scoped>\n",
              "    .dataframe tbody tr th:only-of-type {\n",
              "        vertical-align: middle;\n",
              "    }\n",
              "\n",
              "    .dataframe tbody tr th {\n",
              "        vertical-align: top;\n",
              "    }\n",
              "\n",
              "    .dataframe thead th {\n",
              "        text-align: right;\n",
              "    }\n",
              "</style>\n",
              "<table border=\"1\" class=\"dataframe\">\n",
              "  <thead>\n",
              "    <tr style=\"text-align: right;\">\n",
              "      <th></th>\n",
              "      <th>Date</th>\n",
              "      <th>Open</th>\n",
              "      <th>High</th>\n",
              "      <th>Low</th>\n",
              "      <th>Close</th>\n",
              "      <th>Adj Close</th>\n",
              "      <th>Volume</th>\n",
              "    </tr>\n",
              "  </thead>\n",
              "  <tbody>\n",
              "    <tr>\n",
              "      <th>0</th>\n",
              "      <td>2011-01-06</td>\n",
              "      <td>195.318176</td>\n",
              "      <td>196.081818</td>\n",
              "      <td>190.409088</td>\n",
              "      <td>191.536362</td>\n",
              "      <td>164.810120</td>\n",
              "      <td>26233795.0</td>\n",
              "    </tr>\n",
              "    <tr>\n",
              "      <th>1</th>\n",
              "      <td>2011-01-07</td>\n",
              "      <td>190.000000</td>\n",
              "      <td>195.981812</td>\n",
              "      <td>189.272720</td>\n",
              "      <td>190.763641</td>\n",
              "      <td>164.145218</td>\n",
              "      <td>33983851.0</td>\n",
              "    </tr>\n",
              "    <tr>\n",
              "      <th>2</th>\n",
              "      <td>2011-01-10</td>\n",
              "      <td>189.863632</td>\n",
              "      <td>192.518188</td>\n",
              "      <td>182.745453</td>\n",
              "      <td>184.363632</td>\n",
              "      <td>158.638245</td>\n",
              "      <td>35807255.0</td>\n",
              "    </tr>\n",
              "    <tr>\n",
              "      <th>3</th>\n",
              "      <td>2011-01-11</td>\n",
              "      <td>184.727264</td>\n",
              "      <td>189.572723</td>\n",
              "      <td>182.318176</td>\n",
              "      <td>185.990906</td>\n",
              "      <td>160.038452</td>\n",
              "      <td>34005752.0</td>\n",
              "    </tr>\n",
              "    <tr>\n",
              "      <th>4</th>\n",
              "      <td>2011-01-12</td>\n",
              "      <td>187.418182</td>\n",
              "      <td>195.318176</td>\n",
              "      <td>186.245453</td>\n",
              "      <td>194.445450</td>\n",
              "      <td>167.313293</td>\n",
              "      <td>37752814.0</td>\n",
              "    </tr>\n",
              "  </tbody>\n",
              "</table>\n",
              "</div>"
            ],
            "text/plain": [
              "         Date        Open        High         Low       Close   Adj Close  \\\n",
              "0  2011-01-06  195.318176  196.081818  190.409088  191.536362  164.810120   \n",
              "1  2011-01-07  190.000000  195.981812  189.272720  190.763641  164.145218   \n",
              "2  2011-01-10  189.863632  192.518188  182.745453  184.363632  158.638245   \n",
              "3  2011-01-11  184.727264  189.572723  182.318176  185.990906  160.038452   \n",
              "4  2011-01-12  187.418182  195.318176  186.245453  194.445450  167.313293   \n",
              "\n",
              "       Volume  \n",
              "0  26233795.0  \n",
              "1  33983851.0  \n",
              "2  35807255.0  \n",
              "3  34005752.0  \n",
              "4  37752814.0  "
            ]
          },
          "execution_count": 49,
          "metadata": {},
          "output_type": "execute_result"
        }
      ],
      "source": [
        "df.head()"
      ]
    },
    {
      "cell_type": "code",
      "execution_count": null,
      "id": "f953835f",
      "metadata": {
        "id": "f953835f",
        "outputId": "33423fb7-764c-4962-c5f1-b305fb3f11ee"
      },
      "outputs": [
        {
          "name": "stdout",
          "output_type": "stream",
          "text": [
            "<class 'pandas.core.frame.DataFrame'>\n",
            "RangeIndex: 2526 entries, 0 to 2525\n",
            "Data columns (total 7 columns):\n",
            " #   Column     Non-Null Count  Dtype  \n",
            "---  ------     --------------  -----  \n",
            " 0   Date       2526 non-null   object \n",
            " 1   Open       2520 non-null   float64\n",
            " 2   High       2520 non-null   float64\n",
            " 3   Low        2520 non-null   float64\n",
            " 4   Close      2520 non-null   float64\n",
            " 5   Adj Close  2520 non-null   float64\n",
            " 6   Volume     2520 non-null   float64\n",
            "dtypes: float64(6), object(1)\n",
            "memory usage: 138.3+ KB\n"
          ]
        }
      ],
      "source": [
        "df.info()"
      ]
    },
    {
      "cell_type": "code",
      "execution_count": null,
      "id": "38d2b5d5",
      "metadata": {
        "id": "38d2b5d5",
        "outputId": "154ff7b2-0a33-43f9-e755-5f3166211850"
      },
      "outputs": [
        {
          "data": {
            "text/plain": [
              "(2526, 7)"
            ]
          },
          "execution_count": 51,
          "metadata": {},
          "output_type": "execute_result"
        }
      ],
      "source": [
        "df.shape"
      ]
    },
    {
      "cell_type": "code",
      "execution_count": null,
      "id": "5b230031",
      "metadata": {
        "id": "5b230031",
        "outputId": "a3f34c8a-548e-43d5-c4a9-fbfccbcc4229"
      },
      "outputs": [
        {
          "data": {
            "text/plain": [
              "Date         0\n",
              "Open         6\n",
              "High         6\n",
              "Low          6\n",
              "Close        6\n",
              "Adj Close    6\n",
              "Volume       6\n",
              "dtype: int64"
            ]
          },
          "execution_count": 52,
          "metadata": {},
          "output_type": "execute_result"
        }
      ],
      "source": [
        "df.isnull().sum()"
      ]
    },
    {
      "cell_type": "code",
      "execution_count": null,
      "id": "3db54e97",
      "metadata": {
        "id": "3db54e97",
        "outputId": "ad0ec693-0985-4ba6-f9a1-ed6b16c25308"
      },
      "outputs": [
        {
          "data": {
            "text/plain": [
              "Date         0\n",
              "Open         0\n",
              "High         0\n",
              "Low          0\n",
              "Close        0\n",
              "Adj Close    0\n",
              "Volume       0\n",
              "dtype: int64"
            ]
          },
          "execution_count": 53,
          "metadata": {},
          "output_type": "execute_result"
        }
      ],
      "source": [
        "df= df.dropna()\n",
        "df.isnull().sum()"
      ]
    },
    {
      "cell_type": "code",
      "execution_count": null,
      "id": "790b73ea",
      "metadata": {
        "id": "790b73ea"
      },
      "outputs": [],
      "source": [
        "data = df.reset_index()[\"Close\"]\n"
      ]
    },
    {
      "cell_type": "code",
      "execution_count": null,
      "id": "53caef58",
      "metadata": {
        "id": "53caef58",
        "outputId": "acebf0cf-8601-4f99-cad5-5c821f798fa9"
      },
      "outputs": [
        {
          "name": "stdout",
          "output_type": "stream",
          "text": [
            "0       191.536362\n",
            "1       190.763641\n",
            "2       184.363632\n",
            "3       185.990906\n",
            "4       194.445450\n",
            "           ...    \n",
            "2515    586.400024\n",
            "2516    567.500000\n",
            "2517    571.549988\n",
            "2518    578.549988\n",
            "2519    591.450012\n",
            "Name: Close, Length: 2520, dtype: float64\n"
          ]
        }
      ],
      "source": [
        "print(data)"
      ]
    },
    {
      "cell_type": "code",
      "execution_count": null,
      "id": "84b115a4",
      "metadata": {
        "id": "84b115a4",
        "outputId": "90ad4c71-67cb-4894-c436-6b17c618b748"
      },
      "outputs": [
        {
          "data": {
            "text/plain": [
              "[<matplotlib.lines.Line2D at 0x1ef7a63d1f0>]"
            ]
          },
          "execution_count": 56,
          "metadata": {},
          "output_type": "execute_result"
        },
        {
          "data": {
            "image/png": "[encoded data removed]",
            "text/plain": [
              "<Figure size 720x432 with 1 Axes>"
            ]
          },
          "metadata": {
            "needs_background": "light"
          },
          "output_type": "display_data"
        }
      ],
      "source": [
        "plt.figure(figsize=(10,6))\n",
        "plt.plot(data)"
      ]
    },
    {
      "cell_type": "code",
      "execution_count": null,
      "id": "82f5c133",
      "metadata": {
        "id": "82f5c133",
        "outputId": "f176fd62-6df7-42c8-a759-b2e7c4b8c052"
      },
      "outputs": [
        {
          "data": {
            "text/plain": [
              "[<matplotlib.lines.Line2D at 0x1ef7a74e850>]"
            ]
          },
          "execution_count": 57,
          "metadata": {},
          "output_type": "execute_result"
        },
        {
          "data": {
            "image/png": "[encoded data removed]",
            "text/plain": [
              "<Figure size 720x432 with 1 Axes>"
            ]
          },
          "metadata": {
            "needs_background": "light"
          },
          "output_type": "display_data"
        },
        {
          "data": {
            "image/png": "[encoded data removed]",
            "text/plain": [
              "<Figure size 720x432 with 1 Axes>"
            ]
          },
          "metadata": {
            "needs_background": "light"
          },
          "output_type": "display_data"
        }
      ],
      "source": [
        "#  Going for the moving average\n",
        "# Taking Timestamp  to  be of size 30\n",
        "Moving_Average = data.rolling(30).mean()\n",
        "plt.figure(figsize=(10,6))\n",
        "plt.plot(data,\"b\")\n",
        "plt.plot(Moving_Average,\"r\")\n",
        "\n",
        "#  Zooming the data\n",
        "plt.figure(figsize=(10,6))\n",
        "plt.plot(data[2000:2200],\"b\")\n",
        "plt.plot(Moving_Average[2000:2200],\"r\")"
      ]
    },
    {
      "cell_type": "code",
      "execution_count": null,
      "id": "03233ad3",
      "metadata": {
        "id": "03233ad3"
      },
      "outputs": [],
      "source": [
        "#Normalising the Data \n",
        "from sklearn.preprocessing import MinMaxScaler\n",
        "scaler = MinMaxScaler(feature_range =(0,1))\n",
        "scaled_data = scaler.fit_transform(np.array(data).reshape(-1,1))"
      ]
    },
    {
      "cell_type": "code",
      "execution_count": null,
      "id": "a24f4d3a",
      "metadata": {
        "id": "a24f4d3a"
      },
      "outputs": [],
      "source": [
        "# Splitting the data into test and train\n",
        "Training_portion =0.7\n",
        "Training_size =int(len(data)*Training_portion) \n",
        "Test_size = len(data) - Training_size\n",
        "train_data =  scaled_data[0:Training_size]\n",
        "test_data = scaled_data[Training_size:len(data)]"
      ]
    },
    {
      "cell_type": "code",
      "execution_count": null,
      "id": "208d810a",
      "metadata": {
        "id": "208d810a"
      },
      "outputs": [],
      "source": [
        "# Here test_data is np.array as it is derived from scaled_data which is already a 2-D array"
      ]
    },
    {
      "cell_type": "code",
      "execution_count": null,
      "id": "06336f91",
      "metadata": {
        "id": "06336f91"
      },
      "outputs": [],
      "source": [
        "def create_Y(dataset,timestamp):\n",
        "    x,y =[],[]\n",
        "    for i in range(0,len(dataset)-timestamp):\n",
        "        list = dataset[i:(i+timestamp),0]\n",
        "        x.append(list)\n",
        "        y.append(dataset[i+timestamp,0])\n",
        "    return np.array(x),np.array(y)    "
      ]
    },
    {
      "cell_type": "code",
      "execution_count": null,
      "id": "a00e8dc3",
      "metadata": {
        "id": "a00e8dc3"
      },
      "outputs": [],
      "source": [
        "# Creating Y-data or labels..........\n",
        "timestamp = 30\n",
        "x_train,y_train = create_Y(train_data,timestamp)\n",
        "x_test,y_test =create_Y(test_data,timestamp)"
      ]
    },
    {
      "cell_type": "code",
      "execution_count": null,
      "id": "c756cfe0",
      "metadata": {
        "id": "c756cfe0",
        "outputId": "c7fd5787-9b89-44b4-f22a-f0bca69ef869"
      },
      "outputs": [
        {
          "name": "stdout",
          "output_type": "stream",
          "text": [
            "(1734, 30) (1734,)\n",
            "(726, 30) (726,)\n"
          ]
        }
      ],
      "source": [
        "print(x_train.shape,y_train.shape)\n",
        "print(x_test.shape,y_test.shape)"
      ]
    },
    {
      "cell_type": "code",
      "execution_count": null,
      "id": "2e9373be",
      "metadata": {
        "id": "2e9373be"
      },
      "outputs": [],
      "source": [
        "from tensorflow.keras.layers import Dropout,LSTM,Dense,Conv1D\n",
        "from tensorflow.keras.models import Sequential\n",
        "x_train =x_train.reshape(x_train.shape[0],x_train.shape[1] , 1)\n",
        "x_test = x_test.reshape(x_test.shape[0],x_test.shape[1] , 1)"
      ]
    },
    {
      "cell_type": "code",
      "execution_count": null,
      "id": "446108d5",
      "metadata": {
        "id": "446108d5"
      },
      "outputs": [],
      "source": [
        "model=Sequential()\n",
        "model.add(Conv1D(64,5,strides=1,padding=\"causal\",activation=\"relu\",input_shape=(x_train.shape[1],1)))\n",
        "model.add(LSTM(60,return_sequences=True,input_shape=(x_train.shape[1],1)))\n",
        "model.add(LSTM(60))\n",
        "model.add(Dense(30,activation=\"relu\"))\n",
        "# model.add(Dropout(0.2))\n",
        "model.add(Dense(10,activation =\"relu\"))\n",
        "\n",
        "model.add(Dense(1))\n",
        "model.compile(loss ='mean_squared_error',optimizer =\"adam\")\n"
      ]
    },
    {
      "cell_type": "code",
      "execution_count": null,
      "id": "64c2ead9",
      "metadata": {
        "id": "64c2ead9",
        "outputId": "a29eb997-9c7c-43eb-b317-d63ba11b5ede"
      },
      "outputs": [
        {
          "name": "stdout",
          "output_type": "stream",
          "text": [
            "Model: \"sequential_2\"\n",
            "_________________________________________________________________\n",
            "Layer (type)                 Output Shape              Param #   \n",
            "=================================================================\n",
            "conv1d_2 (Conv1D)            (None, 30, 64)            384       \n",
            "_________________________________________________________________\n",
            "lstm_4 (LSTM)                (None, 30, 60)            30000     \n",
            "_________________________________________________________________\n",
            "lstm_5 (LSTM)                (None, 60)                29040     \n",
            "_________________________________________________________________\n",
            "dense_6 (Dense)              (None, 30)                1830      \n",
            "_________________________________________________________________\n",
            "dense_7 (Dense)              (None, 10)                310       \n",
            "_________________________________________________________________\n",
            "dense_8 (Dense)              (None, 1)                 11        \n",
            "=================================================================\n",
            "Total params: 61,575\n",
            "Trainable params: 61,575\n",
            "Non-trainable params: 0\n",
            "_________________________________________________________________\n"
          ]
        }
      ],
      "source": [
        "model.summary()"
      ]
    },
    {
      "cell_type": "code",
      "execution_count": null,
      "id": "3e4b9364",
      "metadata": {
        "id": "3e4b9364",
        "outputId": "800c2aa4-f038-43ca-9d53-82ea62802716"
      },
      "outputs": [
        {
          "name": "stdout",
          "output_type": "stream",
          "text": [
            "Epoch 1/100\n",
            "55/55 [==============================] - 8s 37ms/step - loss: 0.0041\n",
            "Epoch 2/100\n",
            "55/55 [==============================] - 2s 37ms/step - loss: 4.4159e-04\n",
            "Epoch 3/100\n",
            "55/55 [==============================] - 2s 37ms/step - loss: 4.1667e-04\n",
            "Epoch 4/100\n",
            "55/55 [==============================] - 2s 37ms/step - loss: 3.7954e-04\n",
            "Epoch 5/100\n",
            "55/55 [==============================] - 2s 37ms/step - loss: 3.6408e-04\n",
            "Epoch 6/100\n",
            "55/55 [==============================] - 2s 37ms/step - loss: 3.5407e-04\n",
            "Epoch 7/100\n",
            "55/55 [==============================] - 2s 37ms/step - loss: 3.1492e-04\n",
            "Epoch 8/100\n",
            "55/55 [==============================] - 2s 37ms/step - loss: 3.2455e-04\n",
            "Epoch 9/100\n",
            "55/55 [==============================] - 2s 37ms/step - loss: 3.0076e-04\n",
            "Epoch 10/100\n",
            "55/55 [==============================] - 2s 37ms/step - loss: 3.3702e-04\n",
            "Epoch 11/100\n",
            "55/55 [==============================] - 2s 37ms/step - loss: 2.7409e-04\n",
            "Epoch 12/100\n",
            "55/55 [==============================] - 2s 37ms/step - loss: 2.3339e-04\n",
            "Epoch 13/100\n",
            "55/55 [==============================] - 2s 37ms/step - loss: 2.8154e-04\n",
            "Epoch 14/100\n",
            "55/55 [==============================] - 2s 37ms/step - loss: 2.3112e-04\n",
            "Epoch 15/100\n",
            "55/55 [==============================] - 2s 37ms/step - loss: 2.0043e-04\n",
            "Epoch 16/100\n",
            "55/55 [==============================] - 2s 37ms/step - loss: 1.8501e-04\n",
            "Epoch 17/100\n",
            "55/55 [==============================] - 2s 37ms/step - loss: 1.7906e-04\n",
            "Epoch 18/100\n",
            "55/55 [==============================] - 2s 37ms/step - loss: 1.9736e-04\n",
            "Epoch 19/100\n",
            "55/55 [==============================] - 2s 37ms/step - loss: 1.6270e-04\n",
            "Epoch 20/100\n",
            "55/55 [==============================] - 2s 37ms/step - loss: 1.6583e-04\n",
            "Epoch 21/100\n",
            "55/55 [==============================] - 2s 37ms/step - loss: 1.6849e-04\n",
            "Epoch 22/100\n",
            "55/55 [==============================] - 2s 37ms/step - loss: 1.5044e-04\n",
            "Epoch 23/100\n",
            "55/55 [==============================] - 2s 37ms/step - loss: 1.4602e-04\n",
            "Epoch 24/100\n",
            "55/55 [==============================] - 2s 36ms/step - loss: 1.4061e-04\n",
            "Epoch 25/100\n",
            "55/55 [==============================] - 2s 37ms/step - loss: 1.5375e-04\n",
            "Epoch 26/100\n",
            "55/55 [==============================] - 2s 37ms/step - loss: 1.2972e-04\n",
            "Epoch 27/100\n",
            "55/55 [==============================] - 2s 37ms/step - loss: 1.3110e-04\n",
            "Epoch 28/100\n",
            "55/55 [==============================] - 2s 37ms/step - loss: 1.2002e-04\n",
            "Epoch 29/100\n",
            "55/55 [==============================] - 2s 37ms/step - loss: 1.1603e-04\n",
            "Epoch 30/100\n",
            "55/55 [==============================] - 2s 37ms/step - loss: 1.1401e-04\n",
            "Epoch 31/100\n",
            "55/55 [==============================] - 2s 37ms/step - loss: 1.0742e-04\n",
            "Epoch 32/100\n",
            "55/55 [==============================] - 2s 37ms/step - loss: 9.6331e-05\n",
            "Epoch 33/100\n",
            "55/55 [==============================] - 2s 36ms/step - loss: 1.0011e-04\n",
            "Epoch 34/100\n",
            "55/55 [==============================] - 2s 37ms/step - loss: 1.0821e-04\n",
            "Epoch 35/100\n",
            "55/55 [==============================] - 2s 37ms/step - loss: 1.0871e-04\n",
            "Epoch 36/100\n",
            "55/55 [==============================] - 2s 37ms/step - loss: 1.0189e-04\n",
            "Epoch 37/100\n",
            "55/55 [==============================] - 2s 36ms/step - loss: 9.8838e-05\n",
            "Epoch 38/100\n",
            "55/55 [==============================] - 2s 36ms/step - loss: 1.3997e-04\n",
            "Epoch 39/100\n",
            "55/55 [==============================] - 2s 36ms/step - loss: 9.0736e-05\n",
            "Epoch 40/100\n",
            "55/55 [==============================] - 2s 37ms/step - loss: 8.3065e-05\n",
            "Epoch 41/100\n",
            "55/55 [==============================] - 2s 36ms/step - loss: 8.4025e-05\n",
            "Epoch 42/100\n",
            "55/55 [==============================] - 2s 36ms/step - loss: 9.2354e-05\n",
            "Epoch 43/100\n",
            "55/55 [==============================] - 2s 36ms/step - loss: 8.0448e-05\n",
            "Epoch 44/100\n",
            "55/55 [==============================] - 2s 36ms/step - loss: 1.0430e-04\n",
            "Epoch 45/100\n",
            "55/55 [==============================] - 2s 36ms/step - loss: 7.9308e-05:\n",
            "Epoch 46/100\n",
            "55/55 [==============================] - 2s 36ms/step - loss: 9.1181e-05\n",
            "Epoch 47/100\n",
            "55/55 [==============================] - 2s 36ms/step - loss: 7.8016e-05\n",
            "Epoch 48/100\n",
            "55/55 [==============================] - 2s 37ms/step - loss: 7.9549e-05\n",
            "Epoch 49/100\n",
            "55/55 [==============================] - 2s 36ms/step - loss: 8.4506e-05\n",
            "Epoch 50/100\n",
            "55/55 [==============================] - 2s 36ms/step - loss: 7.8359e-05\n",
            "Epoch 51/100\n",
            "55/55 [==============================] - 2s 36ms/step - loss: 9.1528e-05\n",
            "Epoch 52/100\n",
            "55/55 [==============================] - 2s 36ms/step - loss: 7.9454e-05\n",
            "Epoch 53/100\n",
            "55/55 [==============================] - 2s 36ms/step - loss: 8.1200e-05\n",
            "Epoch 54/100\n",
            "55/55 [==============================] - 2s 36ms/step - loss: 8.4482e-05\n",
            "Epoch 55/100\n",
            "55/55 [==============================] - 2s 36ms/step - loss: 7.4246e-05\n",
            "Epoch 56/100\n",
            "55/55 [==============================] - 2s 36ms/step - loss: 7.8926e-05: 0s - loss: 7.51\n",
            "Epoch 57/100\n",
            "55/55 [==============================] - 2s 36ms/step - loss: 7.4627e-05\n",
            "Epoch 58/100\n",
            "55/55 [==============================] - 2s 36ms/step - loss: 7.6302e-05\n",
            "Epoch 59/100\n",
            "55/55 [==============================] - 2s 36ms/step - loss: 8.2765e-05\n",
            "Epoch 60/100\n",
            "55/55 [==============================] - 2s 36ms/step - loss: 8.4939e-05\n",
            "Epoch 61/100\n",
            "55/55 [==============================] - 2s 36ms/step - loss: 8.8863e-05\n",
            "Epoch 62/100\n",
            "55/55 [==============================] - 2s 36ms/step - loss: 8.6640e-05\n",
            "Epoch 63/100\n",
            "55/55 [==============================] - 2s 36ms/step - loss: 7.6682e-05\n",
            "Epoch 64/100\n",
            "55/55 [==============================] - 2s 36ms/step - loss: 8.1808e-05\n",
            "Epoch 65/100\n",
            "55/55 [==============================] - 2s 35ms/step - loss: 7.3986e-05\n",
            "Epoch 66/100\n",
            "55/55 [==============================] - 2s 36ms/step - loss: 7.3485e-05\n",
            "Epoch 67/100\n",
            "55/55 [==============================] - 2s 35ms/step - loss: 7.8799e-05\n",
            "Epoch 68/100\n",
            "55/55 [==============================] - 2s 36ms/step - loss: 8.0281e-05\n",
            "Epoch 69/100\n",
            "55/55 [==============================] - 2s 36ms/step - loss: 8.8279e-05: 0s - loss: 9.212\n",
            "Epoch 70/100\n",
            "55/55 [==============================] - 2s 36ms/step - loss: 7.4442e-05\n",
            "Epoch 71/100\n",
            "55/55 [==============================] - 2s 36ms/step - loss: 8.6276e-05\n",
            "Epoch 72/100\n",
            "55/55 [==============================] - 2s 36ms/step - loss: 7.6973e-05\n",
            "Epoch 73/100\n",
            "55/55 [==============================] - 2s 36ms/step - loss: 8.4442e-05: 0s - lo\n",
            "Epoch 74/100\n",
            "55/55 [==============================] - 2s 36ms/step - loss: 7.6791e-05\n",
            "Epoch 75/100\n",
            "55/55 [==============================] - 2s 36ms/step - loss: 7.9294e-05\n",
            "Epoch 76/100\n",
            "55/55 [==============================] - 2s 36ms/step - loss: 8.6278e-05\n",
            "Epoch 77/100\n",
            "55/55 [==============================] - 2s 36ms/step - loss: 7.6000e-05\n",
            "Epoch 78/100\n",
            "55/55 [==============================] - 2s 36ms/step - loss: 8.8881e-05\n",
            "Epoch 79/100\n",
            "55/55 [==============================] - 2s 36ms/step - loss: 8.8922e-05\n",
            "Epoch 80/100\n",
            "55/55 [==============================] - 2s 36ms/step - loss: 8.1681e-05\n",
            "Epoch 81/100\n",
            "55/55 [==============================] - 2s 36ms/step - loss: 7.7682e-05\n",
            "Epoch 82/100\n",
            "55/55 [==============================] - 2s 36ms/step - loss: 7.9575e-05\n",
            "Epoch 83/100\n",
            "55/55 [==============================] - 2s 36ms/step - loss: 7.9153e-05\n",
            "Epoch 84/100\n",
            "55/55 [==============================] - 2s 36ms/step - loss: 6.9889e-05\n",
            "Epoch 85/100\n",
            "55/55 [==============================] - 2s 35ms/step - loss: 7.1793e-05\n",
            "Epoch 86/100\n",
            "55/55 [==============================] - 2s 36ms/step - loss: 7.1131e-05\n",
            "Epoch 87/100\n",
            "55/55 [==============================] - 2s 36ms/step - loss: 7.6611e-05: 0s - loss: 7.4\n",
            "Epoch 88/100\n",
            "55/55 [==============================] - 2s 35ms/step - loss: 8.5500e-05\n",
            "Epoch 89/100\n",
            "55/55 [==============================] - 2s 36ms/step - loss: 7.2103e-05: 1s - loss: 6.4707e - ETA: 1s - \n",
            "Epoch 90/100\n",
            "55/55 [==============================] - 2s 36ms/step - loss: 7.6854e-05\n",
            "Epoch 91/100\n",
            "55/55 [==============================] - 2s 36ms/step - loss: 7.4319e-05\n",
            "Epoch 92/100\n",
            "55/55 [==============================] - 2s 36ms/step - loss: 7.3283e-05\n",
            "Epoch 93/100\n",
            "55/55 [==============================] - 2s 35ms/step - loss: 7.3664e-05\n",
            "Epoch 94/100\n",
            "55/55 [==============================] - 2s 36ms/step - loss: 7.2106e-05\n",
            "Epoch 95/100\n",
            "55/55 [==============================] - 2s 37ms/step - loss: 8.0011e-05\n",
            "Epoch 96/100\n",
            "55/55 [==============================] - 2s 37ms/step - loss: 7.9483e-05\n",
            "Epoch 97/100\n",
            "55/55 [==============================] - 2s 37ms/step - loss: 7.9564e-05\n",
            "Epoch 98/100\n",
            "55/55 [==============================] - 2s 37ms/step - loss: 8.1538e-05\n",
            "Epoch 99/100\n",
            "55/55 [==============================] - 2s 37ms/step - loss: 8.4888e-05\n",
            "Epoch 100/100\n",
            "55/55 [==============================] - 2s 37ms/step - loss: 1.1747e-04\n"
          ]
        }
      ],
      "source": [
        "history = model.fit(x_train,y_train,epochs =100 ,batch_size=32)"
      ]
    },
    {
      "cell_type": "code",
      "execution_count": null,
      "id": "1b723b65",
      "metadata": {
        "id": "1b723b65",
        "outputId": "1086eb92-ccea-4678-808a-064ae20da8dd"
      },
      "outputs": [
        {
          "name": "stdout",
          "output_type": "stream",
          "text": [
            "(726, 1)\n",
            "(726,)\n"
          ]
        }
      ],
      "source": [
        "# y = scaler.inverse_transform(y_predict_train)\n",
        "print(y_predict_test.shape)\n",
        "print(y_test.shape)"
      ]
    },
    {
      "cell_type": "code",
      "execution_count": null,
      "id": "7c19410d",
      "metadata": {
        "id": "7c19410d"
      },
      "outputs": [],
      "source": [
        "y_predict_train = model.predict(x_train)\n",
        "y_predict_test = model.predict(x_test)"
      ]
    },
    {
      "cell_type": "code",
      "execution_count": null,
      "id": "ed54d964",
      "metadata": {
        "id": "ed54d964"
      },
      "outputs": [],
      "source": [
        "y_predict_train=  scaler.inverse_transform(y_predict_train)\n",
        "y_predict_test=  scaler.inverse_transform(y_predict_test)"
      ]
    },
    {
      "cell_type": "code",
      "execution_count": null,
      "id": "14c4afad",
      "metadata": {
        "id": "14c4afad"
      },
      "outputs": [],
      "source": [
        "import math\n",
        "from sklearn.metrics import mean_squared_error\n"
      ]
    },
    {
      "cell_type": "code",
      "execution_count": null,
      "id": "b45ee10c",
      "metadata": {
        "scrolled": false,
        "id": "b45ee10c",
        "outputId": "d7c8511f-bc1d-4e31-8820-c9b5e5954a30"
      },
      "outputs": [
        {
          "name": "stdout",
          "output_type": "stream",
          "text": [
            "230.98098857459996\n",
            "399.5967724137161\n"
          ]
        }
      ],
      "source": [
        "print(math.sqrt(mean_squared_error(y_train,y_predict_train)))\n",
        "print(math.sqrt(mean_squared_error(y_test,y_predict_test)))"
      ]
    },
    {
      "cell_type": "code",
      "execution_count": null,
      "id": "6b70720f",
      "metadata": {
        "id": "6b70720f",
        "outputId": "15eb6d57-335e-4993-c401-0c8c24163e5e"
      },
      "outputs": [
        {
          "name": "stdout",
          "output_type": "stream",
          "text": [
            "(726, 1)\n"
          ]
        }
      ],
      "source": [
        "print(y_predict_test.shape)"
      ]
    },
    {
      "cell_type": "code",
      "execution_count": null,
      "id": "79eecfca",
      "metadata": {
        "id": "79eecfca",
        "outputId": "545a5264-557b-4f63-8cfb-7955916a222a"
      },
      "outputs": [
        {
          "data": {
            "text/plain": [
              "[<matplotlib.lines.Line2D at 0x1ef0226f2b0>]"
            ]
          },
          "execution_count": 88,
          "metadata": {},
          "output_type": "execute_result"
        },
        {
          "data": {
            "image/png": "[encoded data removed]",
            "text/plain": [
              "<Figure size 720x432 with 1 Axes>"
            ]
          },
          "metadata": {
            "needs_background": "light"
          },
          "output_type": "display_data"
        }
      ],
      "source": [
        "Final_model = np.append(y_predict_train,y_predict_test)\n",
        "plt.figure(figsize=(10,6))\n",
        "plt.plot(Final_model,'g')\n",
        "scaled=scaler.inverse_transform(np.array(np.append(y_train,y_test)).reshape(-1,1))\n",
        "\n",
        "Orignal_data =np.array(scaled).reshape(-1,1 )\n",
        "# plt.figure(figsize=(10,6))\n",
        "plt.plot(Orignal_data,'r')\n",
        "# print(orignal_data)"
      ]
    },
    {
      "cell_type": "code",
      "execution_count": null,
      "id": "e6fe4761",
      "metadata": {
        "id": "e6fe4761",
        "outputId": "9f5670fc-daf6-4feb-e968-83035da74539"
      },
      "outputs": [
        {
          "data": {
            "text/plain": [
              "[<matplotlib.lines.Line2D at 0x1ef022aa280>]"
            ]
          },
          "execution_count": 89,
          "metadata": {},
          "output_type": "execute_result"
        },
        {
          "data": {
            "image/png": "[encoded data removed]",
            "text/plain": [
              "<Figure size 720x432 with 1 Axes>"
            ]
          },
          "metadata": {
            "needs_background": "light"
          },
          "output_type": "display_data"
        }
      ],
      "source": [
        "# Zooming the plot for validation data\n",
        "plt.figure(figsize=(10,6))\n",
        "plt.plot(Final_model[2000:2200],'g')\n",
        "plt.plot(Orignal_data[2000:2200],'r')\n",
        "\n"
      ]
    },
    {
      "cell_type": "code",
      "execution_count": null,
      "id": "c71c201e",
      "metadata": {
        "id": "c71c201e",
        "outputId": "45388105-0859-4bb3-a842-9ec759a28c63"
      },
      "outputs": [
        {
          "data": {
            "image/png": "[encoded data removed]",
            "text/plain": [
              "<Figure size 432x288 with 1 Axes>"
            ]
          },
          "metadata": {
            "needs_background": "light"
          },
          "output_type": "display_data"
        }
      ],
      "source": [
        "loss = history.history['loss']\n",
        "plt.figure()\n",
        "epochs =range(100)\n",
        "plt.plot(epochs, loss, 'b', label='Training Loss')\n",
        "plt.title('Training loss')\n",
        "plt.legend()\n",
        "plt.show()\n",
        "#  Seen clearly the loss "
      ]
    },
    {
      "cell_type": "code",
      "execution_count": null,
      "id": "27f33c2e",
      "metadata": {
        "id": "27f33c2e",
        "outputId": "4dc8bd8f-9438-4631-c971-f0d92e57c4b0"
      },
      "outputs": [
        {
          "name": "stdout",
          "output_type": "stream",
          "text": [
            "[[286.59766]\n",
            " [278.97214]\n",
            " [276.54794]\n",
            " [281.0837 ]\n",
            " [276.9218 ]\n",
            " [276.63376]\n",
            " [284.63617]\n",
            " [281.86673]\n",
            " [274.1581 ]\n",
            " [279.3419 ]\n",
            " [279.82178]\n",
            " [287.08737]\n",
            " [304.34695]\n",
            " [303.53543]\n",
            " [303.53656]\n",
            " [305.7519 ]\n",
            " [304.92816]\n",
            " [304.2905 ]\n",
            " [293.60425]\n",
            " [291.99484]\n",
            " [282.94363]\n",
            " [286.2317 ]\n",
            " [287.47083]\n",
            " [289.4548 ]\n",
            " [294.8083 ]\n",
            " [292.70578]\n",
            " [295.98706]\n",
            " [287.22702]\n",
            " [282.06503]\n",
            " [282.8493 ]\n",
            " [286.22403]\n",
            " [284.97855]\n",
            " [282.08087]\n",
            " [281.3115 ]\n",
            " [287.51578]\n",
            " [286.02075]\n",
            " [284.32132]\n",
            " [284.43137]\n",
            " [287.36108]\n",
            " [282.72086]\n",
            " [279.88654]\n",
            " [289.2914 ]\n",
            " [289.861  ]\n",
            " [290.9416 ]\n",
            " [294.3664 ]\n",
            " [296.6223 ]\n",
            " [287.33356]\n",
            " [284.93082]\n",
            " [275.53363]\n",
            " [268.9183 ]\n",
            " [273.7393 ]\n",
            " [275.29504]\n",
            " [271.4463 ]\n",
            " [270.92728]\n",
            " [269.26175]\n",
            " [268.13193]\n",
            " [269.27383]\n",
            " [271.66437]\n",
            " [266.5212 ]\n",
            " [270.26004]\n",
            " [265.3149 ]\n",
            " [256.8174 ]\n",
            " [264.53607]\n",
            " [260.9936 ]\n",
            " [259.55902]\n",
            " [263.64105]\n",
            " [273.60675]\n",
            " [272.67935]\n",
            " [271.96997]\n",
            " [282.4735 ]\n",
            " [289.36737]\n",
            " [302.56265]\n",
            " [300.81995]\n",
            " [295.48425]\n",
            " [293.7328 ]\n",
            " [299.6045 ]\n",
            " [310.12354]\n",
            " [309.26395]\n",
            " [313.9754 ]\n",
            " [325.95532]\n",
            " [323.04364]\n",
            " [320.0897 ]\n",
            " [326.0053 ]\n",
            " [327.85513]\n",
            " [334.44376]\n",
            " [332.66434]\n",
            " [332.74484]\n",
            " [331.10037]\n",
            " [324.33408]\n",
            " [334.32516]\n",
            " [333.00745]\n",
            " [335.68546]\n",
            " [338.79077]\n",
            " [336.5009 ]\n",
            " [328.87524]\n",
            " [323.18173]\n",
            " [324.3339 ]\n",
            " [324.00082]\n",
            " [330.91183]\n",
            " [328.3897 ]\n",
            " [322.2505 ]\n",
            " [318.42465]\n",
            " [323.44122]\n",
            " [321.5598 ]\n",
            " [315.49487]\n",
            " [316.89325]\n",
            " [312.82758]\n",
            " [305.76126]\n",
            " [307.75714]\n",
            " [309.2806 ]\n",
            " [304.08572]\n",
            " [302.88925]\n",
            " [309.97964]\n",
            " [300.95364]\n",
            " [313.23807]\n",
            " [303.80402]\n",
            " [307.52185]\n",
            " [302.91937]\n",
            " [315.31525]\n",
            " [308.521  ]\n",
            " [315.6121 ]\n",
            " [309.25363]\n",
            " [316.05972]\n",
            " [310.88678]\n",
            " [311.3243 ]\n",
            " [322.3309 ]\n",
            " [318.28717]\n",
            " [318.25168]\n",
            " [315.0675 ]\n",
            " [310.88757]\n",
            " [342.00537]\n",
            " [338.43182]\n",
            " [344.53677]\n",
            " [347.62424]\n",
            " [347.15884]\n",
            " [343.71384]\n",
            " [346.40494]\n",
            " [349.22006]\n",
            " [350.02728]\n",
            " [346.3123 ]\n",
            " [353.39804]\n",
            " [358.21832]\n",
            " [360.36926]\n",
            " [359.8856 ]\n",
            " [355.74216]\n",
            " [351.26346]\n",
            " [350.08655]\n",
            " [345.87604]\n",
            " [350.77777]\n",
            " [348.64246]\n",
            " [352.8072 ]\n",
            " [355.486  ]\n",
            " [349.38037]\n",
            " [349.84274]\n",
            " [351.58414]\n",
            " [345.50757]\n",
            " [342.52618]\n",
            " [346.4627 ]\n",
            " [340.69205]\n",
            " [338.214  ]\n",
            " [344.7153 ]\n",
            " [343.9803 ]\n",
            " [346.97653]\n",
            " [352.03128]\n",
            " [355.20966]\n",
            " [358.29843]\n",
            " [356.04764]\n",
            " [348.40604]\n",
            " [346.3966 ]\n",
            " [349.64722]\n",
            " [350.03287]\n",
            " [354.38867]\n",
            " [353.6251 ]\n",
            " [356.86444]\n",
            " [357.64005]\n",
            " [356.48935]\n",
            " [358.32672]\n",
            " [360.36353]\n",
            " [369.729  ]\n",
            " [370.95853]\n",
            " [369.89594]\n",
            " [370.9258 ]\n",
            " [365.6405 ]\n",
            " [365.39267]\n",
            " [367.50977]\n",
            " [366.83026]\n",
            " [364.7212 ]\n",
            " [364.31482]\n",
            " [361.9064 ]\n",
            " [360.65424]\n",
            " [358.33746]\n",
            " [351.17123]\n",
            " [337.72906]\n",
            " [341.8493 ]\n",
            " [359.6437 ]\n",
            " [356.94186]\n",
            " [349.78134]\n",
            " [349.46335]\n",
            " [345.91187]\n",
            " [354.19333]\n",
            " [352.81348]\n",
            " [349.71542]\n",
            " [344.53818]\n",
            " [338.44867]\n",
            " [338.84607]\n",
            " [337.20947]\n",
            " [334.29083]\n",
            " [338.7477 ]\n",
            " [340.23453]\n",
            " [346.29245]\n",
            " [346.55475]\n",
            " [349.58026]\n",
            " [342.90155]\n",
            " [339.93277]\n",
            " [344.43713]\n",
            " [348.54407]\n",
            " [355.77762]\n",
            " [361.44287]\n",
            " [361.5027 ]\n",
            " [362.8012 ]\n",
            " [367.42084]\n",
            " [375.77975]\n",
            " [378.39246]\n",
            " [376.6946 ]\n",
            " [383.74475]\n",
            " [385.64676]\n",
            " [385.74414]\n",
            " [382.98022]\n",
            " [382.71872]\n",
            " [374.78497]\n",
            " [384.5056 ]\n",
            " [382.45065]\n",
            " [387.3279 ]\n",
            " [386.85504]\n",
            " [386.31137]\n",
            " [383.604  ]\n",
            " [380.1397 ]\n",
            " [381.86627]\n",
            " [378.5034 ]\n",
            " [386.24234]\n",
            " [383.56808]\n",
            " [380.60468]\n",
            " [385.50983]\n",
            " [383.1531 ]\n",
            " [393.37564]\n",
            " [391.35196]\n",
            " [384.50577]\n",
            " [388.4601 ]\n",
            " [390.55292]\n",
            " [384.97913]\n",
            " [394.5969 ]\n",
            " [394.39136]\n",
            " [385.25967]\n",
            " [392.47583]\n",
            " [390.9305 ]\n",
            " [378.37125]\n",
            " [375.01428]\n",
            " [373.42224]\n",
            " [377.1771 ]\n",
            " [369.37436]\n",
            " [373.1546 ]\n",
            " [369.62943]\n",
            " [374.7945 ]\n",
            " [379.55637]\n",
            " [391.87656]\n",
            " [386.91635]\n",
            " [392.6006 ]\n",
            " [398.1213 ]\n",
            " [411.96918]\n",
            " [414.69077]\n",
            " [415.18564]\n",
            " [410.00882]\n",
            " [412.9571 ]\n",
            " [410.13208]\n",
            " [408.54025]\n",
            " [406.29578]\n",
            " [400.25336]\n",
            " [404.76486]\n",
            " [403.1937 ]\n",
            " [406.60336]\n",
            " [404.6134 ]\n",
            " [406.1869 ]\n",
            " [405.32562]\n",
            " [402.37823]\n",
            " [408.7229 ]\n",
            " [405.91577]\n",
            " [416.14597]\n",
            " [414.18463]\n",
            " [413.70593]\n",
            " [418.64432]\n",
            " [421.20862]\n",
            " [422.78192]\n",
            " [420.54248]\n",
            " [422.978  ]\n",
            " [421.10364]\n",
            " [420.34018]\n",
            " [420.82745]\n",
            " [420.5226 ]\n",
            " [412.55255]\n",
            " [415.72452]\n",
            " [416.64902]\n",
            " [412.0408 ]\n",
            " [413.62073]\n",
            " [409.86673]\n",
            " [411.56476]\n",
            " [411.34277]\n",
            " [406.13318]\n",
            " [400.58093]\n",
            " [401.91254]\n",
            " [400.92026]\n",
            " [397.3045 ]\n",
            " [398.3754 ]\n",
            " [403.20563]\n",
            " [412.2777 ]\n",
            " [408.95587]\n",
            " [410.26007]\n",
            " [406.09653]\n",
            " [400.79944]\n",
            " [393.5597 ]\n",
            " [400.4661 ]\n",
            " [396.64423]\n",
            " [400.92963]\n",
            " [405.69342]\n",
            " [397.8697 ]\n",
            " [405.065  ]\n",
            " [405.7861 ]\n",
            " [408.00092]\n",
            " [404.1316 ]\n",
            " [401.1499 ]\n",
            " [390.70972]\n",
            " [386.72363]\n",
            " [401.30667]\n",
            " [402.13297]\n",
            " [398.57834]\n",
            " [394.87546]\n",
            " [399.7193 ]\n",
            " [383.30365]\n",
            " [389.57245]\n",
            " [380.44455]\n",
            " [383.261  ]\n",
            " [386.41418]\n",
            " [384.22357]\n",
            " [391.04095]\n",
            " [398.6662 ]\n",
            " [397.50577]\n",
            " [390.71292]\n",
            " [391.62674]\n",
            " [377.9798 ]\n",
            " [404.5089 ]\n",
            " [421.16263]\n",
            " [416.03217]\n",
            " [417.12576]\n",
            " [433.54514]\n",
            " [428.44775]\n",
            " [417.6643 ]\n",
            " [414.40283]\n",
            " [414.84546]\n",
            " [402.16452]\n",
            " [404.90845]\n",
            " [419.69214]\n",
            " [406.88626]\n",
            " [413.6453 ]\n",
            " [415.25775]\n",
            " [415.74307]\n",
            " [419.2013 ]\n",
            " [422.76724]\n",
            " [420.92236]\n",
            " [431.77676]\n",
            " [433.96576]\n",
            " [433.72977]\n",
            " [446.64957]\n",
            " [445.5824 ]\n",
            " [452.46744]\n",
            " [448.739  ]\n",
            " [443.42487]\n",
            " [444.49136]\n",
            " [449.16187]\n",
            " [445.83728]\n",
            " [456.26855]\n",
            " [454.14978]\n",
            " [463.24475]\n",
            " [469.22467]\n",
            " [459.9061 ]\n",
            " [473.5636 ]\n",
            " [472.3114 ]\n",
            " [470.51917]\n",
            " [469.23587]\n",
            " [470.47037]\n",
            " [472.39825]\n",
            " [470.40485]\n",
            " [472.11496]\n",
            " [482.22684]\n",
            " [476.24252]\n",
            " [488.99872]\n",
            " [483.06387]\n",
            " [482.74393]\n",
            " [483.37454]\n",
            " [497.42734]\n",
            " [493.6433 ]\n",
            " [492.78015]\n",
            " [497.204  ]\n",
            " [497.2833 ]\n",
            " [500.84793]\n",
            " [501.94775]\n",
            " [503.65085]\n",
            " [505.86713]\n",
            " [507.21497]\n",
            " [507.53278]\n",
            " [506.96304]\n",
            " [512.0579 ]\n",
            " [507.10922]\n",
            " [508.29453]\n",
            " [506.8387 ]\n",
            " [514.808  ]\n",
            " [508.74155]\n",
            " [506.4139 ]\n",
            " [506.6063 ]\n",
            " [508.32965]\n",
            " [505.89047]\n",
            " [495.98608]\n",
            " [496.55173]\n",
            " [497.78558]\n",
            " [511.60648]\n",
            " [503.97137]\n",
            " [506.00122]\n",
            " [507.3803 ]\n",
            " [504.02554]\n",
            " [505.85367]\n",
            " [501.01727]\n",
            " [504.0947 ]\n",
            " [500.34766]\n",
            " [494.03635]\n",
            " [499.61923]\n",
            " [502.15747]\n",
            " [503.52493]\n",
            " [497.3018 ]\n",
            " [498.36862]\n",
            " [502.43945]\n",
            " [494.84726]\n",
            " [488.73572]\n",
            " [502.53235]\n",
            " [504.44434]\n",
            " [505.63843]\n",
            " [504.21136]\n",
            " [503.5179 ]\n",
            " [508.18005]\n",
            " [513.6753 ]\n",
            " [505.92474]\n",
            " [512.86304]\n",
            " [508.74185]\n",
            " [508.23776]\n",
            " [511.88797]\n",
            " [512.0183 ]\n",
            " [498.60864]\n",
            " [503.2631 ]\n",
            " [495.69064]\n",
            " [488.33145]\n",
            " [475.30643]\n",
            " [483.92868]\n",
            " [486.96143]\n",
            " [479.45758]\n",
            " [480.11642]\n",
            " [466.1118 ]\n",
            " [443.84302]\n",
            " [453.41638]\n",
            " [410.61374]\n",
            " [439.3136 ]\n",
            " [390.6735 ]\n",
            " [360.49594]\n",
            " [351.2702 ]\n",
            " [333.64423]\n",
            " [347.67676]\n",
            " [280.37335]\n",
            " [301.9942 ]\n",
            " [315.23538]\n",
            " [331.97214]\n",
            " [336.9873 ]\n",
            " [314.8929 ]\n",
            " [321.26352]\n",
            " [307.98398]\n",
            " [286.5137 ]\n",
            " [323.98965]\n",
            " [315.73718]\n",
            " [336.67258]\n",
            " [329.56894]\n",
            " [322.44922]\n",
            " [336.7595 ]\n",
            " [361.5356 ]\n",
            " [350.86066]\n",
            " [331.10785]\n",
            " [328.61066]\n",
            " [345.09598]\n",
            " [330.68918]\n",
            " [344.1583 ]\n",
            " [351.214  ]\n",
            " [358.51462]\n",
            " [366.69473]\n",
            " [335.29483]\n",
            " [324.82178]\n",
            " [334.35382]\n",
            " [331.7892 ]\n",
            " [335.4829 ]\n",
            " [315.56595]\n",
            " [316.8764 ]\n",
            " [333.21542]\n",
            " [323.67172]\n",
            " [320.33063]\n",
            " [293.97052]\n",
            " [297.34122]\n",
            " [302.44217]\n",
            " [302.73596]\n",
            " [290.5965 ]\n",
            " [290.44202]\n",
            " [313.93936]\n",
            " [323.15213]\n",
            " [326.27524]\n",
            " [333.4061 ]\n",
            " [340.67722]\n",
            " [347.44324]\n",
            " [342.6923 ]\n",
            " [349.5969 ]\n",
            " [351.68634]\n",
            " [342.40848]\n",
            " [346.96695]\n",
            " [333.71872]\n",
            " [338.65088]\n",
            " [325.32364]\n",
            " [337.80157]\n",
            " [336.49023]\n",
            " [346.35123]\n",
            " [354.46896]\n",
            " [357.14844]\n",
            " [364.80704]\n",
            " [344.30066]\n",
            " [344.7822 ]\n",
            " [341.88727]\n",
            " [337.73053]\n",
            " [347.33893]\n",
            " [356.06198]\n",
            " [354.6876 ]\n",
            " [354.522  ]\n",
            " [355.36737]\n",
            " [366.73978]\n",
            " [360.92212]\n",
            " [362.79694]\n",
            " [354.25095]\n",
            " [346.7533 ]\n",
            " [339.6312 ]\n",
            " [340.27933]\n",
            " [339.7033 ]\n",
            " [349.12454]\n",
            " [355.78595]\n",
            " [365.86456]\n",
            " [368.923  ]\n",
            " [378.3375 ]\n",
            " [372.84406]\n",
            " [353.6745 ]\n",
            " [345.13632]\n",
            " [344.253  ]\n",
            " [340.1617 ]\n",
            " [342.8708 ]\n",
            " [338.14334]\n",
            " [346.34708]\n",
            " [346.9692 ]\n",
            " [352.64423]\n",
            " [352.08783]\n",
            " [356.71793]\n",
            " [359.8984 ]\n",
            " [359.57294]\n",
            " [361.19547]\n",
            " [354.89716]\n",
            " [353.99225]\n",
            " [361.9473 ]\n",
            " [365.6695 ]\n",
            " [360.15985]\n",
            " [364.20953]\n",
            " [370.93607]\n",
            " [374.3354 ]\n",
            " [377.23062]\n",
            " [380.52356]\n",
            " [393.72113]\n",
            " [382.85135]\n",
            " [382.11594]\n",
            " [383.5531 ]\n",
            " [373.76645]\n",
            " [365.95148]\n",
            " [366.1255 ]\n",
            " [367.9588 ]\n",
            " [361.19165]\n",
            " [364.12445]\n",
            " [363.3771 ]\n",
            " [357.7158 ]\n",
            " [364.9059 ]\n",
            " [367.09338]\n",
            " [362.34763]\n",
            " [363.20648]\n",
            " [344.40982]\n",
            " [349.35284]\n",
            " [345.96674]\n",
            " [331.06732]\n",
            " [345.14832]\n",
            " [356.07886]\n",
            " [350.65503]\n",
            " [350.2911 ]\n",
            " [361.15863]\n",
            " [363.96198]\n",
            " [369.07742]\n",
            " [372.27097]\n",
            " [376.24362]\n",
            " [387.05035]\n",
            " [388.79932]\n",
            " [384.43445]\n",
            " [394.14783]\n",
            " [381.8761 ]\n",
            " [386.16772]\n",
            " [401.60944]\n",
            " [396.89862]\n",
            " [403.39102]\n",
            " [400.1031 ]\n",
            " [403.31058]\n",
            " [394.3569 ]\n",
            " [398.53534]\n",
            " [386.68683]\n",
            " [390.51877]\n",
            " [383.42575]\n",
            " [402.49826]\n",
            " [419.9351 ]\n",
            " [414.04013]\n",
            " [420.4451 ]\n",
            " [425.99216]\n",
            " [439.2107 ]\n",
            " [453.98358]\n",
            " [455.69315]\n",
            " [451.86838]\n",
            " [462.0592 ]\n",
            " [461.08234]\n",
            " [460.05075]\n",
            " [470.3544 ]\n",
            " [454.1424 ]\n",
            " [458.88208]\n",
            " [449.53708]\n",
            " [456.24835]\n",
            " [450.94473]\n",
            " [452.78125]\n",
            " [452.49243]\n",
            " [460.8718 ]\n",
            " [456.4988 ]\n",
            " [458.6997 ]\n",
            " [475.32568]\n",
            " [478.23828]\n",
            " [477.67368]\n",
            " [483.4689 ]\n",
            " [479.5367 ]\n",
            " [486.699  ]\n",
            " [493.54108]\n",
            " [485.90076]\n",
            " [485.00488]\n",
            " [484.49594]\n",
            " [488.35513]\n",
            " [469.03445]\n",
            " [477.8624 ]\n",
            " [478.45453]\n",
            " [483.21405]\n",
            " [489.0075 ]\n",
            " [495.61255]\n",
            " [496.19272]\n",
            " [502.30823]\n",
            " [496.22742]\n",
            " [500.93918]\n",
            " [504.72272]\n",
            " [510.3114 ]\n",
            " [505.8278 ]\n",
            " [508.81927]\n",
            " [511.25696]\n",
            " [512.4143 ]\n",
            " [519.37537]\n",
            " [515.864  ]\n",
            " [509.4698 ]\n",
            " [504.14517]\n",
            " [514.7569 ]\n",
            " [513.9996 ]\n",
            " [515.1847 ]\n",
            " [502.3427 ]\n",
            " [509.26517]\n",
            " [494.27527]\n",
            " [499.91226]\n",
            " [505.71347]\n",
            " [554.49347]\n",
            " [557.11053]\n",
            " [564.178  ]\n",
            " [579.44965]\n",
            " [563.7336 ]\n",
            " [580.4885 ]\n",
            " [578.56885]\n",
            " [576.46045]\n",
            " [578.84033]\n",
            " [591.84406]\n",
            " [609.1464 ]\n",
            " [593.14044]\n",
            " [601.02014]\n",
            " [591.12946]\n",
            " [573.8904 ]\n",
            " [567.23926]\n",
            " [571.5655 ]\n",
            " [587.1373 ]\n",
            " [571.5894 ]\n",
            " [554.23785]\n",
            " [571.1042 ]\n",
            " [563.6963 ]\n",
            " [579.8698 ]\n",
            " [568.9871 ]\n",
            " [563.90137]\n",
            " [566.83295]\n",
            " [576.70514]\n",
            " [572.92096]\n",
            " [564.6014 ]\n",
            " [561.85956]\n",
            " [554.43134]\n",
            " [549.5777 ]\n",
            " [540.47974]\n",
            " [548.16644]\n",
            " [534.2651 ]\n",
            " [547.5004 ]\n",
            " [529.5771 ]\n",
            " [536.08044]\n",
            " [541.281  ]]\n"
          ]
        }
      ],
      "source": [
        "print(y_predict_test)"
      ]
    },
    {
      "cell_type": "code",
      "execution_count": null,
      "id": "1f556636",
      "metadata": {
        "id": "1f556636"
      },
      "outputs": [],
      "source": [
        ""
      ]
    }
  ],
  "metadata": {
    "kernelspec": {
      "display_name": "Python 3",
      "language": "python",
      "name": "python3"
    },
    "language_info": {
      "codemirror_mode": {
        "name": "ipython",
        "version": 3
      },
      "file_extension": ".py",
      "mimetype": "text/x-python",
      "name": "python",
      "nbconvert_exporter": "python",
      "pygments_lexer": "ipython3",
      "version": "3.8.8"
    },
    "colab": {
      "name": "Stock_prediction.ipynb",
      "provenance": [],
      "include_colab_link": true
    }
  },
  "nbformat": 4,
  "nbformat_minor": 5
}